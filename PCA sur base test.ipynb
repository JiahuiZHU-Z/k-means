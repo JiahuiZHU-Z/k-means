{
 "cells": [
  {
   "cell_type": "code",
   "execution_count": 10,
   "metadata": {
    "collapsed": true
   },
   "outputs": [],
   "source": [
    "import numpy as np\n",
    "from numpy import array\n",
    "from numpy import mean\n",
    "from numpy import cov\n",
    "from numpy.linalg import eig\n",
    "import pandas as pd"
   ]
  },
  {
   "cell_type": "code",
   "execution_count": 31,
   "metadata": {
    "collapsed": true
   },
   "outputs": [],
   "source": [
    "df = pd.DataFrame()\n",
    "df['V1'] = [1,2,3]\n",
    "df['V2'] = [1,4,6]\n",
    "df['v3'] = [1,6,7]\n",
    "df['V4'] =[1,5,7]\n",
    "df['V5'] = [9,5,6]"
   ]
  },
  {
   "cell_type": "code",
   "execution_count": 32,
   "metadata": {
    "collapsed": true
   },
   "outputs": [],
   "source": [
    "X = df"
   ]
  },
  {
   "cell_type": "code",
   "execution_count": 33,
   "metadata": {},
   "outputs": [
    {
     "name": "stdout",
     "output_type": "stream",
     "text": [
      "Eigenvectors \n",
      "[[ 0.17444798  0.95098155 -0.25534682  0.02513484  0.9440255 ]\n",
      " [ 0.45167755 -0.19019631 -0.39976588 -0.10091471 -0.0957915 ]\n",
      " [ 0.58557433 -0.05684028  0.18836422  0.76726692 -0.09672036]\n",
      " [ 0.55445913 -0.17926549 -0.28883812 -0.4934179  -0.23299482]\n",
      " [-0.33945996 -0.15521768 -0.80998562  0.39626344 -0.18973251]]\n",
      "\n",
      "Eigenvalues \n",
      "[ 1.99980618e+01 -8.37076358e-16  8.90827070e-01  9.23256140e-16\n",
      " -8.21186889e-16]\n"
     ]
    }
   ],
   "source": [
    "#PCA valeurs propres et vecteurs propres \n",
    "mean_vec = np.mean(X, axis=0)\n",
    "cov_mat = (X- mean_vec).T.dot((X - mean_vec)) / (X.shape[0])\n",
    "eig_vals, eig_vecs = np.linalg.eig(cov_mat)\n",
    "\n",
    "eig_vals = np.real(eig_vals)\n",
    "eig_vecs = np.real(eig_vecs)\n",
    "print('Eigenvectors \\n%s' %eig_vecs)\n",
    "print('\\nEigenvalues \\n%s' %eig_vals)"
   ]
  },
  {
   "cell_type": "code",
   "execution_count": 34,
   "metadata": {
    "collapsed": true
   },
   "outputs": [],
   "source": [
    "#PCA valeurs propres sorted et vecteurs propres sorted\n",
    "eig_vals_indexed = []\n",
    "for i in range(len(eig_vals)):\n",
    "    eig_vals_indexed.append((i,abs(eig_vals[i])))"
   ]
  },
  {
   "cell_type": "code",
   "execution_count": 35,
   "metadata": {
    "collapsed": true
   },
   "outputs": [],
   "source": [
    "def getValue(l):\n",
    "    return l[1]\n",
    "\n",
    "eig_vals_sorted = sorted(eig_vals_indexed, key=getValue,reverse= True)"
   ]
  },
  {
   "cell_type": "code",
   "execution_count": 36,
   "metadata": {},
   "outputs": [
    {
     "data": {
      "text/plain": [
       "[(0, 19.998061818940442),\n",
       " (2, 0.890827069948457),\n",
       " (3, 9.232561402352062e-16),\n",
       " (1, 8.370763578550955e-16),\n",
       " (4, 8.211868892971262e-16)]"
      ]
     },
     "execution_count": 36,
     "metadata": {},
     "output_type": "execute_result"
    }
   ],
   "source": [
    "eig_vals_sorted"
   ]
  },
  {
   "cell_type": "code",
   "execution_count": 37,
   "metadata": {},
   "outputs": [
    {
     "data": {
      "text/plain": [
       "[0, 2, 3, 1, 4]"
      ]
     },
     "execution_count": 37,
     "metadata": {},
     "output_type": "execute_result"
    }
   ],
   "source": [
    "index =[]\n",
    "for i in eig_vals_sorted:\n",
    "    index.append(i[0])\n",
    "\n",
    "index"
   ]
  },
  {
   "cell_type": "code",
   "execution_count": 39,
   "metadata": {
    "scrolled": true
   },
   "outputs": [
    {
     "data": {
      "text/plain": [
       "array([[ 0.17444798,  0.95098155, -0.25534682,  0.02513484,  0.9440255 ],\n",
       "       [ 0.45167755, -0.19019631, -0.39976588, -0.10091471, -0.0957915 ],\n",
       "       [ 0.58557433, -0.05684028,  0.18836422,  0.76726692, -0.09672036],\n",
       "       [ 0.55445913, -0.17926549, -0.28883812, -0.4934179 , -0.23299482],\n",
       "       [-0.33945996, -0.15521768, -0.80998562,  0.39626344, -0.18973251]])"
      ]
     },
     "execution_count": 39,
     "metadata": {},
     "output_type": "execute_result"
    }
   ],
   "source": [
    "eig_vecs"
   ]
  },
  {
   "cell_type": "code",
   "execution_count": 38,
   "metadata": {
    "collapsed": true
   },
   "outputs": [],
   "source": [
    "eig_vecs_sorted = eig_vecs[index]"
   ]
  },
  {
   "cell_type": "code",
   "execution_count": 40,
   "metadata": {},
   "outputs": [
    {
     "data": {
      "text/plain": [
       "array([[ 0.17444798,  0.95098155, -0.25534682,  0.02513484,  0.9440255 ],\n",
       "       [ 0.58557433, -0.05684028,  0.18836422,  0.76726692, -0.09672036],\n",
       "       [ 0.55445913, -0.17926549, -0.28883812, -0.4934179 , -0.23299482],\n",
       "       [ 0.45167755, -0.19019631, -0.39976588, -0.10091471, -0.0957915 ],\n",
       "       [-0.33945996, -0.15521768, -0.80998562,  0.39626344, -0.18973251]])"
      ]
     },
     "execution_count": 40,
     "metadata": {},
     "output_type": "execute_result"
    }
   ],
   "source": [
    "eig_vecs_sorted"
   ]
  },
  {
   "cell_type": "code",
   "execution_count": null,
   "metadata": {
    "collapsed": true
   },
   "outputs": [],
   "source": []
  }
 ],
 "metadata": {
  "kernelspec": {
   "display_name": "Python 3",
   "language": "python",
   "name": "python3"
  },
  "language_info": {
   "codemirror_mode": {
    "name": "ipython",
    "version": 3
   },
   "file_extension": ".py",
   "mimetype": "text/x-python",
   "name": "python",
   "nbconvert_exporter": "python",
   "pygments_lexer": "ipython3",
   "version": "3.6.2"
  }
 },
 "nbformat": 4,
 "nbformat_minor": 2
}
